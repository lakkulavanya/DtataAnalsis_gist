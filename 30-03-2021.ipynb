{
 "cells": [
  {
   "cell_type": "code",
   "execution_count": 1,
   "metadata": {},
   "outputs": [
    {
     "name": "stdout",
     "output_type": "stream",
     "text": [
      "Lakku Lavanya\n"
     ]
    }
   ],
   "source": [
    "print(\"Lakku Lavanya\");"
   ]
  },
  {
   "cell_type": "markdown",
   "metadata": {},
   "source": [
    "# Data Analysis Using Python\n",
    "## Electronics & Communication\n",
    "### Section-B\n",
    "#### Lakku Lavanya\n",
    "##### Nellore"
   ]
  },
  {
   "cell_type": "code",
   "execution_count": 2,
   "metadata": {},
   "outputs": [
    {
     "name": "stdout",
     "output_type": "stream",
     "text": [
      "12\n"
     ]
    }
   ],
   "source": [
    "print(6+6)"
   ]
  },
  {
   "cell_type": "markdown",
   "metadata": {},
   "source": [
    "## Python\n",
    "- List\n",
    "    - Mutable,[ ]\n",
    "- Tuple \n",
    "    - Immutable,( )\n",
    "- Strings\n",
    "    - \" \",' '\n",
    "- Dict\n",
    "    - { },Keys and values\n",
    "- Sets\n",
    "    - { },unique values\n",
    "- Files\n",
    "- Functions\n",
    "- Oops"
   ]
  },
  {
   "cell_type": "markdown",
   "metadata": {},
   "source": [
    "- Welcome To APSSDC\n",
    "- **Welcome To APSSDC**\n",
    "- ***Welcome To APSSDC***"
   ]
  },
  {
   "cell_type": "code",
   "execution_count": 3,
   "metadata": {},
   "outputs": [
    {
     "name": "stdout",
     "output_type": "stream",
     "text": [
      "[1 2 3 4 5 6]\n"
     ]
    }
   ],
   "source": [
    "import numpy\n",
    "a = numpy.array([1,2,3,4,5,6])\n",
    "print(a)"
   ]
  },
  {
   "cell_type": "code",
   "execution_count": 11,
   "metadata": {},
   "outputs": [
    {
     "name": "stdout",
     "output_type": "stream",
     "text": [
      "[[1 2 3]\n",
      " [2 3 4]]\n"
     ]
    }
   ],
   "source": [
    "import numpy as np\n",
    "a1 = np.array([[1,2,3],[2,3,4]])\n",
    "print(a1)"
   ]
  },
  {
   "cell_type": "code",
   "execution_count": 12,
   "metadata": {},
   "outputs": [
    {
     "name": "stdout",
     "output_type": "stream",
     "text": [
      "[[1 2 3]\n",
      " [2 3 4]\n",
      " [3 4 5]]\n"
     ]
    }
   ],
   "source": [
    "import numpy as np\n",
    "a2 = np.array([[1,2,3],[2,3,4],[3,4,5]])\n",
    "print(a2)"
   ]
  },
  {
   "cell_type": "code",
   "execution_count": 15,
   "metadata": {},
   "outputs": [
    {
     "data": {
      "text/plain": [
       "6"
      ]
     },
     "execution_count": 15,
     "metadata": {},
     "output_type": "execute_result"
    }
   ],
   "source": [
    "a1.size\n"
   ]
  },
  {
   "cell_type": "code",
   "execution_count": 16,
   "metadata": {},
   "outputs": [
    {
     "data": {
      "text/plain": [
       "2"
      ]
     },
     "execution_count": 16,
     "metadata": {},
     "output_type": "execute_result"
    }
   ],
   "source": [
    "a1.ndim"
   ]
  },
  {
   "cell_type": "code",
   "execution_count": 17,
   "metadata": {},
   "outputs": [
    {
     "data": {
      "text/plain": [
       "(2, 3)"
      ]
     },
     "execution_count": 17,
     "metadata": {},
     "output_type": "execute_result"
    }
   ],
   "source": [
    "a1.shape"
   ]
  },
  {
   "cell_type": "code",
   "execution_count": 22,
   "metadata": {},
   "outputs": [
    {
     "data": {
      "text/plain": [
       "array([1, 2, 3])"
      ]
     },
     "execution_count": 22,
     "metadata": {},
     "output_type": "execute_result"
    }
   ],
   "source": [
    "a1[0]"
   ]
  },
  {
   "cell_type": "code",
   "execution_count": 27,
   "metadata": {},
   "outputs": [
    {
     "data": {
      "text/plain": [
       "array([[4],\n",
       "       [5]])"
      ]
     },
     "execution_count": 27,
     "metadata": {},
     "output_type": "execute_result"
    }
   ],
   "source": [
    "a2[1:,2:]"
   ]
  },
  {
   "cell_type": "code",
   "execution_count": 30,
   "metadata": {},
   "outputs": [
    {
     "data": {
      "text/plain": [
       "1.378372793723994"
      ]
     },
     "execution_count": 30,
     "metadata": {},
     "output_type": "execute_result"
    }
   ],
   "source": [
    "np.random.randn()"
   ]
  },
  {
   "cell_type": "code",
   "execution_count": 31,
   "metadata": {},
   "outputs": [
    {
     "data": {
      "text/plain": [
       "array([ 0.80814787,  0.15458638,  0.14657105, -0.313637  ,  0.69570269,\n",
       "       -0.20194007])"
      ]
     },
     "execution_count": 31,
     "metadata": {},
     "output_type": "execute_result"
    }
   ],
   "source": [
    "np.random.randn(6)"
   ]
  },
  {
   "cell_type": "code",
   "execution_count": 34,
   "metadata": {},
   "outputs": [
    {
     "data": {
      "text/plain": [
       "array([[[ 2.10791031e-01, -8.84237727e-01, -9.07346045e-01,\n",
       "         -5.19075257e-01, -2.43644770e+00, -5.89033269e-01,\n",
       "          8.23708794e-01, -1.25070640e+00,  5.55334281e-01,\n",
       "         -8.37181771e-01],\n",
       "        [ 7.92215251e-01, -1.20117661e+00,  1.33455196e-01,\n",
       "          6.90534007e-02, -8.66914894e-01,  5.96920995e-01,\n",
       "          6.43394127e-01,  2.21192053e+00, -6.32229302e-01,\n",
       "          1.33936259e+00],\n",
       "        [ 4.72401931e-01, -7.07688267e-01,  7.94726097e-01,\n",
       "         -1.23115844e-01,  1.46104811e+00,  1.12763302e+00,\n",
       "          1.54183089e+00, -3.51839537e-01,  6.25706200e-02,\n",
       "         -5.76110266e-01],\n",
       "        [-2.86469490e-01, -1.03455704e+00,  1.34905268e+00,\n",
       "          1.34247463e+00, -1.08478236e+00,  1.03637776e+00,\n",
       "         -1.53504054e+00, -6.18909922e-01,  2.88959213e-01,\n",
       "         -4.53890741e-01],\n",
       "        [ 1.87398214e+00,  8.40440072e-01,  6.14443062e-02,\n",
       "         -9.08955073e-01, -1.37980931e+00, -1.46310293e+00,\n",
       "         -1.47411969e+00, -1.39456505e+00, -8.31982868e-01,\n",
       "         -6.03481497e-01],\n",
       "        [ 4.08937443e-01,  2.69352287e-01,  3.26513969e-01,\n",
       "          3.31165498e-02,  1.87652182e+00,  9.75135708e-01,\n",
       "         -3.21032839e-01, -1.51061445e+00,  3.76969474e-01,\n",
       "          1.19367589e+00],\n",
       "        [-6.16344566e-01,  1.09956776e+00,  1.89528824e-01,\n",
       "         -1.83152697e+00,  7.10586506e-01, -1.84499842e+00,\n",
       "         -3.49416109e-01,  6.51280771e-01, -1.88143877e+00,\n",
       "         -4.15685942e-01],\n",
       "        [ 2.21403477e-03, -1.31954155e+00, -1.63492388e-01,\n",
       "         -2.58375039e-02, -2.10999132e+00, -4.04443066e-01,\n",
       "          1.78735743e-01, -1.49457410e+00,  1.63146465e+00,\n",
       "          1.77511455e+00],\n",
       "        [-9.83876257e-01, -2.00009968e+00,  3.52021019e-01,\n",
       "          4.44705428e-01, -3.29965820e-01,  4.08247718e-01,\n",
       "         -1.55112734e+00,  1.31981904e-01,  2.96197140e-01,\n",
       "         -1.73217540e+00],\n",
       "        [ 1.09915162e+00, -3.33727386e-01,  5.89948428e-01,\n",
       "          1.95689319e+00,  1.34529281e+00, -2.00284910e-01,\n",
       "          7.87378928e-01, -1.02793023e-01, -1.53159381e+00,\n",
       "         -1.08843415e+00],\n",
       "        [-1.58430612e+00,  6.67019020e-01,  6.67212101e-01,\n",
       "          1.54448038e+00,  1.48315149e-01, -1.41605076e+00,\n",
       "         -1.28825297e+00,  1.56757147e+00, -4.94405818e-01,\n",
       "         -1.18443621e-01],\n",
       "        [-1.62161280e+00, -6.92825343e-01,  2.07591783e-01,\n",
       "          1.19043313e+00, -7.31648204e-01,  9.32987364e-01,\n",
       "         -5.84146586e-01, -1.49278474e+00, -2.44823954e-01,\n",
       "          1.29142932e+00],\n",
       "        [-6.66499052e-01,  1.71349870e-01,  2.48214101e-02,\n",
       "         -8.95422057e-02, -3.60965361e-02, -1.31866606e+00,\n",
       "          2.28090811e-01,  2.67753291e-02, -7.17897457e-01,\n",
       "         -7.33759646e-01],\n",
       "        [ 1.63170419e+00, -1.02742564e-01, -2.66356270e-01,\n",
       "         -5.53727839e-01, -9.07256725e-01,  4.62648761e-01,\n",
       "          6.33688684e-01, -3.44036894e-01, -5.30482119e-02,\n",
       "          8.84569476e-02],\n",
       "        [ 5.89448200e-01, -3.22180788e-01,  8.24772401e-01,\n",
       "          1.27807455e+00,  8.12538595e-01,  4.51977050e-01,\n",
       "          1.17402144e+00, -1.54112305e+00, -3.95680533e-01,\n",
       "         -8.95876794e-01],\n",
       "        [-1.31800838e+00,  5.60769627e-01,  1.81184586e+00,\n",
       "          9.08811977e-01, -1.27758787e+00, -6.73755129e-01,\n",
       "         -7.94609768e-01,  3.36459714e-01,  9.31553796e-01,\n",
       "         -4.50558795e-01],\n",
       "        [-6.49747493e-01, -1.95538783e+00,  1.97323798e-01,\n",
       "         -1.31575838e-01,  4.84072209e-01,  8.50985908e-01,\n",
       "         -3.25009700e-01,  9.88744782e-01,  6.41508714e-01,\n",
       "          2.19895235e-03],\n",
       "        [-1.36945596e-01,  1.43049116e-01, -1.09527230e+00,\n",
       "          3.11288884e-01, -4.58764546e-03, -1.77443659e-01,\n",
       "          5.79280715e-01, -4.70043345e-01,  6.15828014e-01,\n",
       "         -9.21236349e-01],\n",
       "        [-7.13589161e-01, -6.47188531e-01,  7.55755771e-01,\n",
       "         -4.42284849e-01, -2.20255494e-01, -6.35567285e-01,\n",
       "          1.19022419e+00, -8.41314929e-01, -9.24876328e-01,\n",
       "         -1.08427207e-01],\n",
       "        [ 2.55748984e-01,  6.18550180e-01, -2.83491225e-01,\n",
       "          8.78678302e-01, -3.19297685e-01,  1.56257509e-01,\n",
       "          4.04950483e-01, -7.68463259e-01,  9.48859522e-01,\n",
       "         -1.49024354e-01]]])"
      ]
     },
     "execution_count": 34,
     "metadata": {},
     "output_type": "execute_result"
    }
   ],
   "source": [
    "np.random.randn(1,20,10)"
   ]
  },
  {
   "cell_type": "code",
   "execution_count": 42,
   "metadata": {},
   "outputs": [
    {
     "name": "stdout",
     "output_type": "stream",
     "text": [
      "[19 12  9  1 12  2  8  6 19 17]\n"
     ]
    }
   ],
   "source": [
    "a = np.random.randint(1,20,10)\n",
    "print(a)"
   ]
  },
  {
   "cell_type": "code",
   "execution_count": null,
   "metadata": {},
   "outputs": [],
   "source": []
  },
  {
   "cell_type": "code",
   "execution_count": null,
   "metadata": {},
   "outputs": [],
   "source": []
  }
 ],
 "metadata": {
  "kernelspec": {
   "display_name": "Python 3",
   "language": "python",
   "name": "python3"
  },
  "language_info": {
   "codemirror_mode": {
    "name": "ipython",
    "version": 3
   },
   "file_extension": ".py",
   "mimetype": "text/x-python",
   "name": "python",
   "nbconvert_exporter": "python",
   "pygments_lexer": "ipython3",
   "version": "3.8.5"
  }
 },
 "nbformat": 4,
 "nbformat_minor": 4
}
